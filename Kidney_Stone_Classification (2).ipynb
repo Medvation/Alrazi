{
  "metadata": {
    "kernelspec": {
      "display_name": "Python 3",
      "name": "python3"
    },
    "language_info": {
      "name": "python",
      "version": "3.10.14",
      "mimetype": "text/x-python",
      "codemirror_mode": {
        "name": "ipython",
        "version": 3
      },
      "pygments_lexer": "ipython3",
      "nbconvert_exporter": "python",
      "file_extension": ".py"
    },
    "kaggle": {
      "accelerator": "none",
      "dataSources": [
        {
          "sourceId": 2764486,
          "sourceType": "datasetVersion",
          "datasetId": 1686903
        }
      ],
      "dockerImageVersionId": 30762,
      "isInternetEnabled": true,
      "language": "python",
      "sourceType": "notebook",
      "isGpuEnabled": false
    },
    "colab": {
      "provenance": [],
      "gpuType": "T4"
    },
    "accelerator": "GPU"
  },
  "nbformat_minor": 0,
  "nbformat": 4,
  "cells": [
    {
      "source": [
        "# IMPORTANT: RUN THIS CELL IN ORDER TO IMPORT YOUR KAGGLE DATA SOURCES,\n",
        "# THEN FEEL FREE TO DELETE THIS CELL.\n",
        "# NOTE: THIS NOTEBOOK ENVIRONMENT DIFFERS FROM KAGGLE'S PYTHON\n",
        "# ENVIRONMENT SO THERE MAY BE MISSING LIBRARIES USED BY YOUR\n",
        "# NOTEBOOK.\n",
        "import kagglehub\n",
        "nazmul0087_ct_kidney_dataset_normal_cyst_tumor_and_stone_path = kagglehub.dataset_download('nazmul0087/ct-kidney-dataset-normal-cyst-tumor-and-stone')\n",
        "\n",
        "print('Data source import complete.')\n"
      ],
      "metadata": {
        "id": "m4RZT7z3iQoz",
        "outputId": "aa027d7f-3cce-4054-cbcf-cbaa46f588cb",
        "colab": {
          "base_uri": "https://localhost:8080/"
        }
      },
      "cell_type": "code",
      "outputs": [
        {
          "output_type": "stream",
          "name": "stdout",
          "text": [
            "Downloading from https://www.kaggle.com/api/v1/datasets/download/nazmul0087/ct-kidney-dataset-normal-cyst-tumor-and-stone?dataset_version_number=1...\n"
          ]
        },
        {
          "output_type": "stream",
          "name": "stderr",
          "text": [
            "100%|██████████| 1.52G/1.52G [00:18<00:00, 86.3MB/s]"
          ]
        },
        {
          "output_type": "stream",
          "name": "stdout",
          "text": [
            "Extracting files...\n"
          ]
        },
        {
          "output_type": "stream",
          "name": "stderr",
          "text": [
            "\n"
          ]
        },
        {
          "output_type": "stream",
          "name": "stdout",
          "text": [
            "Data source import complete.\n"
          ]
        }
      ],
      "execution_count": null
    },
    {
      "cell_type": "code",
      "source": [
        "!pip install split-folders"
      ],
      "metadata": {
        "execution": {
          "iopub.status.busy": "2024-08-23T17:27:09.293805Z",
          "iopub.execute_input": "2024-08-23T17:27:09.294318Z",
          "iopub.status.idle": "2024-08-23T17:27:27.294055Z",
          "shell.execute_reply.started": "2024-08-23T17:27:09.294261Z",
          "shell.execute_reply": "2024-08-23T17:27:27.292653Z"
        },
        "trusted": true,
        "id": "XHVa5ZHSiQo1",
        "outputId": "eee5d026-3487-41de-b042-2a899d14577f",
        "colab": {
          "base_uri": "https://localhost:8080/"
        }
      },
      "execution_count": null,
      "outputs": [
        {
          "output_type": "stream",
          "name": "stdout",
          "text": [
            "Collecting split-folders\n",
            "  Downloading split_folders-0.5.1-py3-none-any.whl.metadata (6.2 kB)\n",
            "Downloading split_folders-0.5.1-py3-none-any.whl (8.4 kB)\n",
            "Installing collected packages: split-folders\n",
            "Successfully installed split-folders-0.5.1\n"
          ]
        }
      ]
    },
    {
      "cell_type": "code",
      "source": [
        "import splitfolders\n",
        "splitfolders.ratio(nazmul0087_ct_kidney_dataset_normal_cyst_tumor_and_stone_path + '/CT-KIDNEY-DATASET-Normal-Cyst-Tumor-Stone/CT-KIDNEY-DATASET-Normal-Cyst-Tumor-Stone', output=\"output\", seed=1337, ratio=(.8, 0.1,0.1))"
      ],
      "metadata": {
        "execution": {
          "iopub.status.busy": "2024-08-23T17:27:55.998887Z",
          "iopub.execute_input": "2024-08-23T17:27:55.99931Z",
          "iopub.status.idle": "2024-08-23T17:29:54.511442Z",
          "shell.execute_reply.started": "2024-08-23T17:27:55.99927Z",
          "shell.execute_reply": "2024-08-23T17:29:54.510314Z"
        },
        "trusted": true,
        "id": "0-2yzUpeiQo2",
        "outputId": "4cc75d5d-a7d5-422a-f4f6-8d99dbebee9c",
        "colab": {
          "base_uri": "https://localhost:8080/"
        }
      },
      "execution_count": null,
      "outputs": [
        {
          "output_type": "stream",
          "name": "stderr",
          "text": [
            "Copying files: 12446 files [00:10, 1166.65 files/s]\n"
          ]
        }
      ]
    },
    {
      "cell_type": "code",
      "source": [
        "import torch\n",
        "import torchvision\n",
        "from torch import nn\n",
        "import os\n",
        "from torchvision import datasets, transforms\n",
        "from torch.utils.data import DataLoader\n",
        "import torch\n",
        "import time\n",
        "import torch\n",
        "import numpy\n",
        "from torch import nn\n",
        "import os\n",
        "from torchvision import datasets, transforms\n",
        "from torch.utils.data import DataLoader\n",
        "from torch.utils.data import SubsetRandomSampler\n",
        "from torch.utils.data import random_split\n",
        "import torch\n",
        "import matplotlib.pyplot as plt\n",
        "import numpy as np\n",
        "import os\n",
        "import torch\n",
        "import random\n",
        "import zipfile\n",
        "from pathlib import Path\n",
        "import requests\n",
        "from sklearn.model_selection import train_test_split"
      ],
      "metadata": {
        "execution": {
          "iopub.status.busy": "2024-08-23T17:34:50.032016Z",
          "iopub.execute_input": "2024-08-23T17:34:50.032589Z",
          "iopub.status.idle": "2024-08-23T17:34:53.769866Z",
          "shell.execute_reply.started": "2024-08-23T17:34:50.032477Z",
          "shell.execute_reply": "2024-08-23T17:34:53.768501Z"
        },
        "trusted": true,
        "id": "oeChjeA0iQo2"
      },
      "execution_count": null,
      "outputs": []
    },
    {
      "cell_type": "code",
      "source": [
        "def computeAccu(model,dataLoader,device):\n",
        "  model.eval()\n",
        "  with torch.no_grad():\n",
        "    correctPred = 0\n",
        "    totalPred = 0\n",
        "\n",
        "    for features,targets in dataLoader:\n",
        "      features = features.to(device)\n",
        "      targets  = targets.to(device)\n",
        "\n",
        "      logits   = model(features)\n",
        "      _ , predLabel = torch.max(logits,1)\n",
        "      totalPred += targets.size(0)\n",
        "      correctPred += (predLabel == targets).sum()\n",
        "\n",
        "  return correctPred.float()/totalPred * 100\n",
        "def setAllSeeds(seed):\n",
        "  os.environ['MY_GLOBAL_SEED'] = str(seed)\n",
        "  random.seed(seed)\n",
        "  np.random.seed(seed)\n",
        "  torch.manual_seed(seed)\n",
        "  torch.cuda.manual_seed_all(seed)"
      ],
      "metadata": {
        "execution": {
          "iopub.status.busy": "2024-08-23T17:34:53.771988Z",
          "iopub.execute_input": "2024-08-23T17:34:53.772578Z",
          "iopub.status.idle": "2024-08-23T17:34:53.782672Z",
          "shell.execute_reply.started": "2024-08-23T17:34:53.772534Z",
          "shell.execute_reply": "2024-08-23T17:34:53.78118Z"
        },
        "trusted": true,
        "id": "Lt8tZ6tZiQo2"
      },
      "execution_count": null,
      "outputs": []
    },
    {
      "cell_type": "code",
      "source": [
        "def getEffNetModel(seed,numClasses):\n",
        "  setAllSeeds(seed)\n",
        "  effNetWeights = torchvision.models.EfficientNet_B2_Weights.DEFAULT\n",
        "  effNetTransforms = effNetWeights.transforms()\n",
        "  effNet = torchvision.models.efficientnet_b2(weights=effNetWeights)\n",
        "  for param in effNet.parameters():\n",
        "    param.requires_grad = False\n",
        "  effNet.classifier = nn.Sequential(\n",
        "    nn.Dropout(p=0.3,inplace=True),\n",
        "    nn.Linear(1408,numClasses,bias=True)\n",
        "  )\n",
        "  return effNet,effNetTransforms"
      ],
      "metadata": {
        "execution": {
          "iopub.status.busy": "2024-08-23T17:34:55.396429Z",
          "iopub.execute_input": "2024-08-23T17:34:55.397022Z",
          "iopub.status.idle": "2024-08-23T17:34:55.406813Z",
          "shell.execute_reply.started": "2024-08-23T17:34:55.396965Z",
          "shell.execute_reply": "2024-08-23T17:34:55.404919Z"
        },
        "trusted": true,
        "id": "HeZg6RT2iQo2"
      },
      "execution_count": null,
      "outputs": []
    },
    {
      "cell_type": "code",
      "source": [
        "model, transformers = getEffNetModel(42,4)"
      ],
      "metadata": {
        "execution": {
          "iopub.status.busy": "2024-08-23T17:34:57.856681Z",
          "iopub.execute_input": "2024-08-23T17:34:57.857256Z",
          "iopub.status.idle": "2024-08-23T17:35:01.960785Z",
          "shell.execute_reply.started": "2024-08-23T17:34:57.857202Z",
          "shell.execute_reply": "2024-08-23T17:35:01.959602Z"
        },
        "trusted": true,
        "id": "eejhTg9OiQo3",
        "colab": {
          "base_uri": "https://localhost:8080/"
        },
        "outputId": "44a08e72-b683-4465-afc3-08b04d0ab815"
      },
      "execution_count": null,
      "outputs": [
        {
          "output_type": "stream",
          "name": "stderr",
          "text": [
            "Downloading: \"https://download.pytorch.org/models/efficientnet_b2_rwightman-c35c1473.pth\" to /root/.cache/torch/hub/checkpoints/efficientnet_b2_rwightman-c35c1473.pth\n",
            "100%|██████████| 35.2M/35.2M [00:00<00:00, 40.2MB/s]\n"
          ]
        }
      ]
    },
    {
      "cell_type": "code",
      "source": [
        "trainDir = '/content/output/train'\n",
        "testDir  = '/content/output/test'\n",
        "valDir   = '/content/output/val'\n",
        "batchSize = 32\n",
        "randomSeed = 42\n",
        "numEpochs = 8\n",
        "DEVICE = torch.device('cuda:0' if torch.cuda.is_available() else 'cpu')"
      ],
      "metadata": {
        "execution": {
          "iopub.status.busy": "2024-08-23T17:35:01.963156Z",
          "iopub.execute_input": "2024-08-23T17:35:01.963556Z",
          "iopub.status.idle": "2024-08-23T17:35:01.970107Z",
          "shell.execute_reply.started": "2024-08-23T17:35:01.963514Z",
          "shell.execute_reply": "2024-08-23T17:35:01.968682Z"
        },
        "trusted": true,
        "id": "Z7rUhj8AiQo3"
      },
      "execution_count": null,
      "outputs": []
    },
    {
      "cell_type": "code",
      "source": [
        "trainData = datasets.ImageFolder(trainDir, transform=transformers)\n",
        "testData = datasets.ImageFolder(testDir, transform=transformers)\n",
        "classNames = trainData.classes\n",
        "trainDataloader = DataLoader(\n",
        "  trainData,\n",
        "  batch_size=batchSize,\n",
        "  shuffle=True,\n",
        "  num_workers=0,\n",
        "  pin_memory=True,\n",
        ")\n",
        "classNames = trainData.classes\n",
        "testDataloader = DataLoader(\n",
        "  testData,\n",
        "  batch_size=batchSize,\n",
        "  shuffle=False, # don't need to shuffle test data\n",
        "  num_workers=0,\n",
        "  pin_memory=True,\n",
        ")\n",
        "valData = datasets.ImageFolder(valDir, transform=transformers)\n",
        "valDataloader = DataLoader(\n",
        "  valData,\n",
        "  batch_size=batchSize,\n",
        "  shuffle=False, # don't need to shuffle test data\n",
        "  num_workers=0,\n",
        "  pin_memory=True,\n",
        ")"
      ],
      "metadata": {
        "execution": {
          "iopub.status.busy": "2024-08-23T17:35:03.48593Z",
          "iopub.execute_input": "2024-08-23T17:35:03.486369Z",
          "iopub.status.idle": "2024-08-23T17:35:03.571578Z",
          "shell.execute_reply.started": "2024-08-23T17:35:03.486325Z",
          "shell.execute_reply": "2024-08-23T17:35:03.570166Z"
        },
        "trusted": true,
        "id": "XlImdBUeiQo3"
      },
      "execution_count": null,
      "outputs": []
    },
    {
      "cell_type": "code",
      "source": [
        "for images, labels in trainDataloader:\n",
        "    print('Image batch dimensions:', images.shape)\n",
        "    print('Image label dimensions:', labels.shape)\n",
        "    print('Class labels of 10 examples:', labels[:10])\n",
        "    break"
      ],
      "metadata": {
        "execution": {
          "iopub.status.busy": "2024-08-23T17:35:12.293205Z",
          "iopub.execute_input": "2024-08-23T17:35:12.293697Z",
          "iopub.status.idle": "2024-08-23T17:35:12.794063Z",
          "shell.execute_reply.started": "2024-08-23T17:35:12.293652Z",
          "shell.execute_reply": "2024-08-23T17:35:12.792857Z"
        },
        "trusted": true,
        "id": "muN0AHLViQo3",
        "outputId": "90038352-1d1d-4cf2-dc91-c091111616f6",
        "colab": {
          "base_uri": "https://localhost:8080/"
        }
      },
      "execution_count": null,
      "outputs": [
        {
          "output_type": "stream",
          "name": "stdout",
          "text": [
            "Image batch dimensions: torch.Size([32, 3, 288, 288])\n",
            "Image label dimensions: torch.Size([32])\n",
            "Class labels of 10 examples: tensor([3, 1, 0, 1, 1, 1, 1, 0, 3, 1])\n"
          ]
        }
      ]
    },
    {
      "cell_type": "code",
      "source": [
        "def modelTrainer(model1, numEpochs, trainLoader,testLoader,valLoader, opt, device,scheduler=None,schedulerOn='validAcc'):\n",
        "  startTime = time.time()\n",
        "  miniBatchLoss = []\n",
        "  trainAccLoss = []\n",
        "  valAccLoss = []\n",
        "  valPlotAccLoss =[]\n",
        "  for e in range(numEpochs):\n",
        "    model1.train()\n",
        "    for batchIdx, (features,targets) in enumerate(trainLoader):\n",
        "      features = features.to(device)\n",
        "      targets  = targets.to(device)\n",
        "\n",
        "      logits = model1(features)\n",
        "      # _, predLabel = torch.max(logits,1)\n",
        "\n",
        "      cost = torch.nn.functional.cross_entropy(logits,targets)\n",
        "      opt.zero_grad()\n",
        "      cost.backward()\n",
        "      opt.step()\n",
        "      miniBatchLoss.append(cost.item())\n",
        "      if ( not (batchIdx%50) ):\n",
        "        print('Epoch:%03d/%03d | Batch:%03d/%03d |  Cost:%.4f' %(e+1, numEpochs, batchIdx, len(trainLoader), cost.item()))\n",
        "    with torch.no_grad():\n",
        "      print('Epoch:%03d/%03d |' %(e+1, numEpochs))\n",
        "      trainLoss = computeAccu(model1, trainLoader,device)\n",
        "      valLoss   = computeAccu(model1, valLoader  ,device)\n",
        "      valAccLoss.append(valLoss)\n",
        "      trainAccLoss.append(trainLoss.cpu().numpy())\n",
        "\n",
        "      print(f'Train Acc {trainLoss :.4f}%')\n",
        "      print(f'Val Acc   {valLoss:.4f}%')\n",
        "      print(f'Time Taken: {((time.time()-startTime)/60):.2f} min')\n",
        "      if(scheduler is not None):\n",
        "        if(schedulerOn == 'validAcc'):\n",
        "          scheduler.step(valAccLoss[-1])\n",
        "        elif(schedulerOn == 'miniBatchLoss'):\n",
        "          scheduler.step(miniBatchLoss[-1])\n",
        "        else:\n",
        "          raise ValueError(f'invalid choice for SchedulerOn {schedulerOn}')\n",
        "      # valAccLoss[-1] = valLoss.detach().numpy()\n",
        "      valPlotAccLoss.append(valLoss.cpu().numpy())\n",
        "#     break\n",
        "    if(not((e+1)%3)):\n",
        "        torch.save(model1.state_dict(), f'model{e+1}.pt')\n",
        "        torch.save(opt.state_dict(), f'optimizer{e+1}.pt')\n",
        "        torch.save(scheduler.state_dict(), f'schd{e+1}.pt')\n",
        "  testLoss = computeAccu(model1, testLoader, device)\n",
        "  print(f'Test Acc   {testLoss:.4f}%')\n",
        "  print(f'Total Time Taken: {((time.time()-startTime)/60):.2f} min')\n",
        "\n",
        "  return miniBatchLoss, trainAccLoss, valPlotAccLoss"
      ],
      "metadata": {
        "execution": {
          "iopub.status.busy": "2024-08-23T17:35:15.438036Z",
          "iopub.execute_input": "2024-08-23T17:35:15.438666Z",
          "iopub.status.idle": "2024-08-23T17:35:15.459844Z",
          "shell.execute_reply.started": "2024-08-23T17:35:15.438568Z",
          "shell.execute_reply": "2024-08-23T17:35:15.458255Z"
        },
        "trusted": true,
        "id": "wrgvGqpsiQo4"
      },
      "execution_count": null,
      "outputs": []
    },
    {
      "cell_type": "code",
      "source": [
        "model = model.to(DEVICE)\n",
        "\n",
        "optimizer = torch.optim.SGD(model.parameters(), momentum=0.9,lr=0.1)\n",
        "scheduler = torch.optim.lr_scheduler.ReduceLROnPlateau(optimizer,\n",
        "                                                       factor=0.1,\n",
        "                                                       mode='max',\n",
        "                                                       verbose=True)"
      ],
      "metadata": {
        "execution": {
          "iopub.status.busy": "2024-08-23T17:35:19.769076Z",
          "iopub.execute_input": "2024-08-23T17:35:19.769523Z",
          "iopub.status.idle": "2024-08-23T17:35:19.795907Z",
          "shell.execute_reply.started": "2024-08-23T17:35:19.769481Z",
          "shell.execute_reply": "2024-08-23T17:35:19.794626Z"
        },
        "trusted": true,
        "id": "bJWofnS0iQo4",
        "colab": {
          "base_uri": "https://localhost:8080/"
        },
        "outputId": "7b7fb63d-2ff2-4c13-d9cf-e0f949d6f3a4"
      },
      "execution_count": null,
      "outputs": [
        {
          "output_type": "stream",
          "name": "stderr",
          "text": [
            "/usr/local/lib/python3.10/dist-packages/torch/optim/lr_scheduler.py:62: UserWarning: The verbose parameter is deprecated. Please use get_last_lr() to access the learning rate.\n",
            "  warnings.warn(\n"
          ]
        }
      ]
    },
    {
      "cell_type": "code",
      "source": [
        "setAllSeeds(42)\n",
        "miniBatchLossList, trainAccList, validAccList = modelTrainer(\n",
        "    model1=model,\n",
        "    numEpochs=numEpochs,\n",
        "    trainLoader=trainDataloader,\n",
        "    valLoader=valDataloader,\n",
        "    testLoader=testDataloader,\n",
        "    opt=optimizer,\n",
        "    device=DEVICE,\n",
        "    scheduler=scheduler,\n",
        "    schedulerOn='validAcc')"
      ],
      "metadata": {
        "execution": {
          "iopub.status.busy": "2024-08-23T17:35:24.823757Z",
          "iopub.execute_input": "2024-08-23T17:35:24.824221Z"
        },
        "trusted": true,
        "id": "acSn50aciQo5",
        "outputId": "5a852f66-63ec-4ee4-ab86-2c461ca6e7ea",
        "colab": {
          "base_uri": "https://localhost:8080/"
        }
      },
      "execution_count": null,
      "outputs": [
        {
          "output_type": "stream",
          "name": "stdout",
          "text": [
            "Epoch:001/008 | Batch:000/312 |  Cost:1.4015\n",
            "Epoch:001/008 | Batch:050/312 |  Cost:0.9308\n",
            "Epoch:001/008 | Batch:100/312 |  Cost:0.9199\n",
            "Epoch:001/008 | Batch:150/312 |  Cost:1.1368\n",
            "Epoch:001/008 | Batch:200/312 |  Cost:1.2050\n",
            "Epoch:001/008 | Batch:250/312 |  Cost:0.6803\n",
            "Epoch:001/008 | Batch:300/312 |  Cost:0.6130\n",
            "Epoch:001/008 |\n",
            "Train Acc 93.7418%\n",
            "Val Acc   93.6393%\n",
            "Time Taken: 4.59 min\n",
            "Epoch:002/008 | Batch:000/312 |  Cost:0.3784\n",
            "Epoch:002/008 | Batch:050/312 |  Cost:0.1837\n",
            "Epoch:002/008 | Batch:100/312 |  Cost:0.4205\n",
            "Epoch:002/008 | Batch:150/312 |  Cost:0.2677\n",
            "Epoch:002/008 | Batch:200/312 |  Cost:0.7997\n",
            "Epoch:002/008 | Batch:250/312 |  Cost:0.4924\n",
            "Epoch:002/008 | Batch:300/312 |  Cost:1.1990\n",
            "Epoch:002/008 |\n",
            "Train Acc 96.1226%\n",
            "Val Acc   95.0886%\n",
            "Time Taken: 9.14 min\n",
            "Epoch:003/008 | Batch:000/312 |  Cost:0.1684\n",
            "Epoch:003/008 | Batch:050/312 |  Cost:0.1226\n",
            "Epoch:003/008 | Batch:100/312 |  Cost:0.3467\n",
            "Epoch:003/008 | Batch:150/312 |  Cost:0.6354\n",
            "Epoch:003/008 | Batch:200/312 |  Cost:0.6436\n",
            "Epoch:003/008 | Batch:250/312 |  Cost:0.7696\n",
            "Epoch:003/008 | Batch:300/312 |  Cost:1.0872\n",
            "Epoch:003/008 |\n",
            "Train Acc 95.5901%\n",
            "Val Acc   94.2029%\n",
            "Time Taken: 13.64 min\n",
            "Epoch:004/008 | Batch:000/312 |  Cost:1.9453\n",
            "Epoch:004/008 | Batch:050/312 |  Cost:0.5985\n",
            "Epoch:004/008 | Batch:100/312 |  Cost:0.4463\n",
            "Epoch:004/008 | Batch:150/312 |  Cost:0.5909\n",
            "Epoch:004/008 | Batch:200/312 |  Cost:0.2783\n",
            "Epoch:004/008 | Batch:250/312 |  Cost:0.5734\n",
            "Epoch:004/008 | Batch:300/312 |  Cost:0.6242\n",
            "Epoch:004/008 |\n",
            "Train Acc 97.0768%\n",
            "Val Acc   96.3768%\n",
            "Time Taken: 18.12 min\n",
            "Epoch:005/008 | Batch:000/312 |  Cost:0.4166\n",
            "Epoch:005/008 | Batch:050/312 |  Cost:0.9863\n",
            "Epoch:005/008 | Batch:100/312 |  Cost:0.4245\n",
            "Epoch:005/008 | Batch:150/312 |  Cost:0.9784\n",
            "Epoch:005/008 | Batch:200/312 |  Cost:0.3822\n",
            "Epoch:005/008 | Batch:250/312 |  Cost:1.3256\n",
            "Epoch:005/008 | Batch:300/312 |  Cost:0.1946\n",
            "Epoch:005/008 |\n",
            "Train Acc 96.6951%\n",
            "Val Acc   96.0547%\n",
            "Time Taken: 22.65 min\n",
            "Epoch:006/008 | Batch:000/312 |  Cost:0.5922\n",
            "Epoch:006/008 | Batch:050/312 |  Cost:0.7484\n",
            "Epoch:006/008 | Batch:100/312 |  Cost:0.4849\n",
            "Epoch:006/008 | Batch:150/312 |  Cost:0.7107\n",
            "Epoch:006/008 | Batch:200/312 |  Cost:0.3439\n",
            "Epoch:006/008 | Batch:250/312 |  Cost:0.1480\n",
            "Epoch:006/008 | Batch:300/312 |  Cost:0.1472\n",
            "Epoch:006/008 |\n",
            "Train Acc 97.0568%\n",
            "Val Acc   96.1353%\n",
            "Time Taken: 27.15 min\n",
            "Epoch:007/008 | Batch:000/312 |  Cost:0.4760\n",
            "Epoch:007/008 | Batch:050/312 |  Cost:0.9461\n",
            "Epoch:007/008 | Batch:100/312 |  Cost:0.1569\n",
            "Epoch:007/008 | Batch:150/312 |  Cost:0.5400\n",
            "Epoch:007/008 | Batch:200/312 |  Cost:0.1427\n",
            "Epoch:007/008 | Batch:250/312 |  Cost:0.1809\n",
            "Epoch:007/008 | Batch:300/312 |  Cost:0.2950\n",
            "Epoch:007/008 |\n",
            "Train Acc 96.9864%\n",
            "Val Acc   95.8937%\n",
            "Time Taken: 31.62 min\n",
            "Epoch:008/008 | Batch:000/312 |  Cost:0.9823\n",
            "Epoch:008/008 | Batch:050/312 |  Cost:0.1030\n",
            "Epoch:008/008 | Batch:100/312 |  Cost:0.3386\n",
            "Epoch:008/008 | Batch:150/312 |  Cost:0.5382\n",
            "Epoch:008/008 | Batch:200/312 |  Cost:0.7363\n",
            "Epoch:008/008 | Batch:250/312 |  Cost:0.5929\n",
            "Epoch:008/008 | Batch:300/312 |  Cost:0.6942\n",
            "Epoch:008/008 |\n",
            "Train Acc 96.7654%\n",
            "Val Acc   95.8132%\n",
            "Time Taken: 36.08 min\n",
            "Test Acc   95.2762%\n",
            "Total Time Taken: 36.35 min\n"
          ]
        }
      ]
    },
    {
      "cell_type": "code",
      "source": [
        "def plotTrainingLoss(miniBatchLoss,numEpoch,iterPerEpoch,resultsDir=None,avgIter = 100):\n",
        "  plt.figure()\n",
        "  ax1 = plt.subplot(1,1,1)\n",
        "  ax1.plot(range(len(miniBatchLoss)), miniBatchLoss, label='Mini Batch Loss')\n",
        "  if len(miniBatchLoss) > 1000:\n",
        "    ax1.set_ylim([0,np.max(miniBatchLoss[1000:])*1.5])\n",
        "  ax1.set_xlabel('Iterations')\n",
        "  ax1.set_ylabel('Loss')\n",
        "  ax1.plot(np.convolve(miniBatchLoss,np.ones(avgIter,)/avgIter,mode='valid'),label='Running Avg')\n",
        "  ax1.legend()\n",
        "\n",
        "  ax2 = ax1.twiny()\n",
        "  newLabel = list(range(numEpoch+1))\n",
        "  newPos = [e*iterPerEpoch for e in newLabel]\n",
        "  # ax2.set_xticks(newpos[::10])\n",
        "  # ax2.set_xticklabels(newlabel[::10])\n",
        "\n",
        "  ax2.set_xticks(newPos[::10])\n",
        "  ax2.set_xticklabels(newLabel[::10])\n",
        "  ax2.spines['bottom'].set_position(('outward',45))\n",
        "  ax2.set_xlabel(\"Epochs\")\n",
        "  ax2.set_xlim(ax1.get_xlim())\n",
        "\n",
        "  plt.tight_layout()\n",
        "\n",
        "  if(resultsDir is not None):\n",
        "    imagePath = os.path.join(resultsDir, 'plotTrainingLoss.pdf')\n",
        "    plt.savefig(imagePath)\n",
        "\n",
        "def plotAccuracy(trainAccList, valAccList, resultsDir = None):\n",
        "  numEpoch = len(trainAccList)\n",
        "  plt.plot(np.arange(1,numEpoch+1),trainAccList,label='Training')\n",
        "  plt.plot(np.arange(1,numEpoch+1),valAccList,label='Validation')\n",
        "  plt.xlabel('Epoch')\n",
        "  plt.ylabel('Accuracy')\n",
        "  plt.legend()\n",
        "\n",
        "  plt.tight_layout()\n",
        "\n",
        "\n",
        "  if(resultsDir is not None):\n",
        "    imagePath = os.path.join(resultsDir, 'plotAccTrainingValidation.pdf')\n",
        "    plt.savefig(imagePath)\n",
        "\n",
        "def show_examples(model, dataLoader):\n",
        "  for batchIdx, (features, targets) in enumerate(dataLoader):\n",
        "    with torch.no_grad():\n",
        "      features = features.to(torch.device('cpu'))\n",
        "      targets  = targets.to(torch.device('cpu'))\n",
        "      logits = model(features)\n",
        "      predictions = torch.argmax(logits,dim=1)\n",
        "    break\n",
        "\n",
        "  fig, axes = plt.subplots(nrows=3,ncols=5,sharex=True,sharey=True)\n",
        "  nhwcImage = np.transpose(features,axes = (0,2,3,1))\n",
        "  nhwImage  = np.squeeze(nhwcImage.numpy(), axis=3)\n",
        "\n",
        "  for idx,ax in enumerate(axes.ravel()):\n",
        "    ax.imshow(nhwImage[idx],cmap='binary')\n",
        "    ax.title.set_text(f'P: {predictions[idx]} | T: {targets[idx]}')\n",
        "    ax.axison = False\n",
        "\n",
        "  plt.tight_layout()\n",
        "  plt.show()"
      ],
      "metadata": {
        "id": "wwN2NeP-iQo5"
      },
      "execution_count": null,
      "outputs": []
    },
    {
      "cell_type": "code",
      "source": [
        "plotTrainingLoss(miniBatchLoss=miniBatchLossList,\n",
        "                   numEpoch=numEpochs,\n",
        "                   iterPerEpoch=len(trainDataloader),\n",
        "                   resultsDir=None,\n",
        "                   avgIter=100)    #plotTrainingLoss(miniBatchLoss,numEpoch,iterPerEpoch,resultsDir=None,avgIter = 100)\n",
        "plt.show()\n",
        "plotAccuracy(trainAccList,validAccList)\n",
        "plt.ylim([60,100])\n",
        "plt.show()"
      ],
      "metadata": {
        "id": "Q62gEWgaiQo5",
        "outputId": "8e2734f6-406e-4cfb-e3a3-31d8bcee86a1",
        "colab": {
          "base_uri": "https://localhost:8080/",
          "height": 981
        }
      },
      "execution_count": null,
      "outputs": [
        {
          "output_type": "display_data",
          "data": {
            "text/plain": [
              "<Figure size 640x480 with 2 Axes>"
            ],
            "image/png": "[encoded data removed]"
          },
          "metadata": {}
        },
        {
          "output_type": "display_data",
          "data": {
            "text/plain": [
              "<Figure size 640x480 with 1 Axes>"
            ],
            "image/png": "[encoded data removed]"
          },
          "metadata": {}
        }
      ]
    },
    {
      "cell_type": "code",
      "source": [
        "torch.save(model.state_dict(), 'model.pt')\n",
        "torch.save(optimizer.state_dict(), 'optimizer.pt')\n",
        "torch.save(scheduler.state_dict(), 'scheduler.pt')"
      ],
      "metadata": {
        "id": "5_DT9tJsiQo5"
      },
      "execution_count": null,
      "outputs": []
    },
    {
      "cell_type": "code",
      "source": [
        "import matplotlib.pyplot as plt\n",
        "import numpy as np\n",
        "import torch\n",
        "\n",
        "# Function to display images with predictions in a grid layout\n",
        "def display_predictions(model, dataloader, device, class_names, num_images=15):\n",
        "    model.eval()  # Set model to evaluation mode\n",
        "    images_shown = 0\n",
        "    rows = 3  # Number of rows in the grid\n",
        "    cols = num_images // rows  # Number of columns based on the total images and rows\n",
        "\n",
        "    plt.figure(figsize=(15, 10))\n",
        "    with torch.no_grad():\n",
        "        for images, labels in dataloader:\n",
        "            images, labels = images.to(device), labels.to(device)\n",
        "            outputs = model(images)\n",
        "            _, predicted_labels = torch.max(outputs, 1)\n",
        "\n",
        "            # Display sample images with actual vs predicted labels\n",
        "            for i in range(len(images)):\n",
        "                if images_shown == num_images:\n",
        "                    break\n",
        "\n",
        "                img = images[i].cpu().numpy().transpose((1, 2, 0))\n",
        "                img = np.clip(img, 0, 1)  # Scale image values if needed\n",
        "\n",
        "                ax = plt.subplot(rows, cols, images_shown + 1)\n",
        "                ax.imshow(img)\n",
        "                ax.axis('off')\n",
        "                actual_label = class_names[labels[i].item()]\n",
        "                predicted_label = class_names[predicted_labels[i].item()]\n",
        "                ax.set_title(f'Actual: {actual_label}\\nPredicted: {predicted_label}', fontsize=10)\n",
        "\n",
        "                images_shown += 1\n",
        "\n",
        "            if images_shown == num_images:\n",
        "                break\n",
        "    plt.tight_layout()\n",
        "    plt.show()\n",
        "\n",
        "# Example usage\n",
        "# Replace `testDataloader` with your test DataLoader, `model` with your trained model, and `classNames` with your class names list\n",
        "display_predictions(model, testDataloader, DEVICE, classNames)\n"
      ],
      "metadata": {
        "id": "t9U1SFRuuZmR"
      },
      "execution_count": null,
      "outputs": []
    }
  ]
}